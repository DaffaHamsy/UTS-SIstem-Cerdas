{
  "nbformat": 4,
  "nbformat_minor": 0,
  "metadata": {
    "colab": {
      "provenance": [],
      "authorship_tag": "ABX9TyMTudOhTPFS1bN3vU8HLvkG",
      "include_colab_link": true
    },
    "kernelspec": {
      "name": "python3",
      "display_name": "Python 3"
    },
    "language_info": {
      "name": "python"
    }
  },
  "cells": [
    {
      "cell_type": "markdown",
      "metadata": {
        "id": "view-in-github",
        "colab_type": "text"
      },
      "source": [
        "<a href=\"https://colab.research.google.com/github/DaffaHamsy/UTS-SIstem-Cerdas/blob/main/soal_UTS_2.ipynb\" target=\"_parent\"><img src=\"https://colab.research.google.com/assets/colab-badge.svg\" alt=\"Open In Colab\"/></a>"
      ]
    },
    {
      "cell_type": "code",
      "execution_count": 42,
      "metadata": {
        "colab": {
          "base_uri": "https://localhost:8080/"
        },
        "id": "gvgzm1EaqRHm",
        "outputId": "ffa791df-11d2-4429-f049-af9843cd4d7d"
      },
      "outputs": [
        {
          "output_type": "stream",
          "name": "stdout",
          "text": [
            "Jalur terbaik: ['g', 'j', 'i', 'f', 'a', 'd', 'e', 'b', 'h', 'c']\n",
            "Total pendapatan terbesar: 60000\n"
          ]
        }
      ],
      "source": [
        "import random\n",
        "import math\n",
        "\n",
        "# Definisikan koordinat titik-titik pengantaran\n",
        "customer_coordinates = {\n",
        "    'a': (15, 5),\n",
        "    'b': (10, 30),\n",
        "    'c': (5, 10),\n",
        "    'd': (15, 20),\n",
        "    'e': (25, 10),\n",
        "    'f': (30, 20),\n",
        "    'g': (45, 5),\n",
        "    'h': (35, 30),\n",
        "    'i': (45, 25),\n",
        "    'j': (40, 10)\n",
        "}\n",
        "\n",
        "# Fungsi untuk menghitung jarak antara dua titik\n",
        "def calculate_distance(coord1, coord2):\n",
        "    return math.sqrt((coord1[0] - coord2[0])**2 + (coord1[1] - coord2[1])**2)\n",
        "\n",
        "# Fungsi untuk menghitung total waktu pengantaran dan pendapatan\n",
        "def calculate_delivery_time_and_income(delivery_sequence):\n",
        "    total_distance = 0\n",
        "    total_income = 0\n",
        "    current_time = 0\n",
        "    for i in range(len(delivery_sequence) - 1):\n",
        "        distance = calculate_distance(customer_coordinates[delivery_sequence[i]], customer_coordinates[delivery_sequence[i+1]])\n",
        "        total_distance += distance\n",
        "        current_time += distance  # Waktu tempuh dihitung sebagai jarak\n",
        "        if delivery_sequence[i] == 'a' or delivery_sequence[i] == 'i':\n",
        "            if current_time <= 180:  # Maksimal 3 jam (180 menit)\n",
        "                total_income += 15000  # Bonus untuk pelanggan Merah\n",
        "            else:\n",
        "                total_income -= 10000 * ((current_time - 180) // 30)  # Denda 10.000 per setiap 30 menit keterlambatan\n",
        "        elif delivery_sequence[i] == 'e' or delivery_sequence[i] == 'f':\n",
        "            if current_time <= 120:  # Maksimal 2 jam (120 menit)\n",
        "                total_income += 15000  # Bonus untuk pelanggan Kuning\n",
        "            else:\n",
        "                total_income -= 5000 * ((current_time - 120) // 30)  # Denda 5.000 per setiap 30 menit keterlambatan\n",
        "    return total_income\n",
        "\n",
        "# Fungsi untuk menghasilkan populasi awal\n",
        "def generate_initial_population(population_size, customers):\n",
        "    initial_population = []\n",
        "    for _ in range(population_size):\n",
        "        sequence = customers[:]\n",
        "        sequence.remove('g')  # Hapus 'g' dari daftar pelanggan sementara\n",
        "        random.shuffle(sequence)  # Acak urutan pelanggan\n",
        "        sequence.insert(0, 'g')  # Masukkan 'g' sebagai pelanggan pertama\n",
        "        initial_population.append(sequence)\n",
        "    return initial_population\n",
        "\n",
        "# Algoritma genetik untuk optimasi pendapatan abang delivery\n",
        "def genetic_algorithm(population_size, mutation_rate, num_generations, customers):\n",
        "    best_chromosome = None\n",
        "    best_income = float('-inf')\n",
        "\n",
        "    population = generate_initial_population(population_size, customers)\n",
        "    for generation in range(num_generations):\n",
        "        for chromosome in population:\n",
        "            income = calculate_delivery_time_and_income(chromosome)\n",
        "            if income > best_income:\n",
        "                best_chromosome = chromosome\n",
        "                best_income = income\n",
        "\n",
        "    return best_chromosome, best_income\n",
        "\n",
        "# Main program\n",
        "population_size = 50\n",
        "mutation_rate = 0.1\n",
        "num_generations = 100\n",
        "customers = ['a', 'b', 'c', 'd', 'e', 'f', 'g', 'h', 'i', 'j']  # Include 'g'\n",
        "\n",
        "best_chromosome, total_income = genetic_algorithm(population_size, mutation_rate, num_generations, customers)\n",
        "print(\"Jalur terbaik:\", best_chromosome)\n",
        "print(\"Total pendapatan terbesar:\", total_income)\n"
      ]
    },
    {
      "cell_type": "code",
      "source": [],
      "metadata": {
        "id": "sd68SeDZqSpW"
      },
      "execution_count": null,
      "outputs": []
    }
  ]
}