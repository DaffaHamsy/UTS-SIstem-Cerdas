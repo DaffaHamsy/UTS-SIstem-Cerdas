{
  "nbformat": 4,
  "nbformat_minor": 0,
  "metadata": {
    "colab": {
      "provenance": [],
      "authorship_tag": "ABX9TyPP7pvMr3KHDvnbwVN6+Aw/",
      "include_colab_link": true
    },
    "kernelspec": {
      "name": "python3",
      "display_name": "Python 3"
    },
    "language_info": {
      "name": "python"
    }
  },
  "cells": [
    {
      "cell_type": "markdown",
      "metadata": {
        "id": "view-in-github",
        "colab_type": "text"
      },
      "source": [
        "<a href=\"https://colab.research.google.com/github/DaffaHamsy/UTS-SIstem-Cerdas/blob/main/soal_UTS_2.ipynb\" target=\"_parent\"><img src=\"https://colab.research.google.com/assets/colab-badge.svg\" alt=\"Open In Colab\"/></a>"
      ]
    },
    {
      "cell_type": "code",
      "execution_count": 10,
      "metadata": {
        "colab": {
          "base_uri": "https://localhost:8080/"
        },
        "id": "gvgzm1EaqRHm",
        "outputId": "2e16a030-e522-470a-9e42-1b9fd75793e7"
      },
      "outputs": [
        {
          "output_type": "stream",
          "name": "stdout",
          "text": [
            "Jalur terbaik: ['g', 'e', 'a', 'h', 'f', 'c', 'i', 'd', 'j', 'b']\n",
            "Total pendapatan: 60000\n"
          ]
        }
      ],
      "source": [
        "import random\n",
        "import math\n",
        "\n",
        "# Definisikan koordinat titik-titik pengantaran\n",
        "customer_coordinates = {\n",
        "    'a': (15, 5),\n",
        "    'b': (10, 30),\n",
        "    'c': (5, 10),\n",
        "    'd': (15, 20),\n",
        "    'e': (25, 10),\n",
        "    'f': (30, 20),\n",
        "    'g': (45, 5),\n",
        "    'h': (35, 30),\n",
        "    'i': (45, 25),\n",
        "    'j': (40, 10)\n",
        "}\n",
        "\n",
        "# Fungsi untuk menghitung jarak antara dua titik\n",
        "def calculate_distance(coord1, coord2):\n",
        "    return math.sqrt((coord1[0] - coord2[0])**2 + (coord1[1] - coord2[1])**2)\n",
        "\n",
        "# Fungsi untuk menghitung total waktu pengantaran dan pendapatan\n",
        "def calculate_delivery_time_and_income(delivery_sequence):\n",
        "    total_distance = 0\n",
        "    total_income = 0\n",
        "    current_time = 0\n",
        "    for i in range(len(delivery_sequence) - 1):\n",
        "        distance = calculate_distance(customer_coordinates[delivery_sequence[i]], customer_coordinates[delivery_sequence[i+1]])\n",
        "        total_distance += distance\n",
        "        current_time += distance  # Waktu tempuh dihitung sebagai jarak\n",
        "        if delivery_sequence[i] == 'a' or delivery_sequence[i] == 'i':\n",
        "            if current_time <= 180:  # Maksimal 3 jam (180 menit)\n",
        "                total_income += 15000  # Bonus untuk pelanggan Merah\n",
        "            else:\n",
        "                total_income -= 10000 * ((current_time - 180) // 30)  # Denda 10.000 per setiap 30 menit keterlambatan\n",
        "        elif delivery_sequence[i] == 'e' or delivery_sequence[i] == 'f':\n",
        "            if current_time <= 120:  # Maksimal 2 jam (120 menit)\n",
        "                total_income += 15000  # Bonus untuk pelanggan Kuning\n",
        "            else:\n",
        "                total_income -= 5000 * ((current_time - 120) // 30)  # Denda 5.000 per setiap 30 menit keterlambatan\n",
        "    return total_income\n",
        "\n",
        "# Fungsi untuk menghasilkan populasi awal\n",
        "def generate_initial_population(population_size, customers):\n",
        "    initial_population = []\n",
        "    for _ in range(population_size):\n",
        "        sequence = customers[:]\n",
        "        random.shuffle(sequence)  # Acak urutan pengiriman\n",
        "        initial_population.append(sequence)\n",
        "    return initial_population\n",
        "\n",
        "# Fungsi untuk melakukan seleksi berdasarkan nilai fitness\n",
        "def selection(population, fitness_values):\n",
        "    selected_population = []\n",
        "    total_fitness = sum(fitness_values)\n",
        "    probabilities = [fitness / total_fitness for fitness in fitness_values]\n",
        "    for _ in range(len(population)):\n",
        "        selected_population.append(random.choices(population, probabilities)[0])\n",
        "    return selected_population\n",
        "\n",
        "# Fungsi crossover untuk menghasilkan generasi baru\n",
        "def crossover(parent1, parent2):\n",
        "    crossover_point = random.randint(1, len(parent1) - 1)\n",
        "    child1 = parent1[:crossover_point] + [gene for gene in parent2 if gene not in parent1[:crossover_point]]\n",
        "    child2 = parent2[:crossover_point] + [gene for gene in parent1 if gene not in parent2[:crossover_point]]\n",
        "    return child1, child2\n",
        "\n",
        "# Fungsi untuk melakukan mutasi pada kromosom\n",
        "def mutation(chromosome, mutation_rate):\n",
        "    mutated_chromosome = chromosome[:]\n",
        "    if random.random() < mutation_rate:\n",
        "        gene1, gene2 = random.sample(range(len(chromosome)), 2)\n",
        "        mutated_chromosome[gene1], mutated_chromosome[gene2] = mutated_chromosome[gene2], mutated_chromosome[gene1]\n",
        "    return mutated_chromosome\n",
        "\n",
        "# Fungsi untuk menemukan kromosom terbaik\n",
        "def find_best_chromosome(population):\n",
        "    best_chromosome = None\n",
        "    best_fitness = float('-inf')\n",
        "    for chromosome in population:\n",
        "        fitness = calculate_delivery_time_and_income(chromosome)\n",
        "        if fitness > best_fitness:\n",
        "            best_chromosome = chromosome\n",
        "            best_fitness = fitness\n",
        "    return best_chromosome, best_fitness\n",
        "\n",
        "# Algoritma genetik untuk optimasi pendapatan abang delivery\n",
        "def genetic_algorithm(population_size, mutation_rate, num_generations, customers):\n",
        "    population = generate_initial_population(population_size, customers)\n",
        "    for generation in range(num_generations):\n",
        "        fitness_values = []\n",
        "        for chromosome in population:\n",
        "            fitness = calculate_delivery_time_and_income(chromosome)\n",
        "            fitness_values.append(fitness)\n",
        "        selected_population = selection(population, fitness_values)\n",
        "        new_population = []\n",
        "        while len(new_population) < population_size:\n",
        "            parent1, parent2 = random.sample(selected_population, 2)\n",
        "            child1, child2 = crossover(parent1, parent2)\n",
        "            child1 = mutation(child1, mutation_rate)\n",
        "            child2 = mutation(child2, mutation_rate)\n",
        "            new_population.extend([child1, child2])\n",
        "        population = new_population\n",
        "    best_chromosome, best_fitness = find_best_chromosome(population)\n",
        "    return best_chromosome, best_fitness\n",
        "\n",
        "# Main program\n",
        "population_size = 50\n",
        "mutation_rate = 0.1\n",
        "num_generations = 100\n",
        "customers = ['a', 'b', 'c', 'd', 'e', 'f', 'h', 'i', 'j']  # Exclude 'g'\n",
        "\n",
        "best_chromosome, best_income = genetic_algorithm(population_size, mutation_rate, num_generations, customers)\n",
        "best_chromosome.insert(0, 'g')  # Insert 'g' as the starting point\n",
        "print(\"Jalur terbaik:\", best_chromosome)\n",
        "print(\"Total pendapatan:\", best_income)\n"
      ]
    },
    {
      "cell_type": "code",
      "source": [],
      "metadata": {
        "id": "sd68SeDZqSpW"
      },
      "execution_count": null,
      "outputs": []
    }
  ]
}