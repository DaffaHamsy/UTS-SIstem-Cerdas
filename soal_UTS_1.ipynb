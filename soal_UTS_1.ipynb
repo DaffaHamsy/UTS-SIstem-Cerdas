{
  "nbformat": 4,
  "nbformat_minor": 0,
  "metadata": {
    "colab": {
      "provenance": [],
      "authorship_tag": "ABX9TyMT++Qb52kh/mW5M9YLHsIr",
      "include_colab_link": true
    },
    "kernelspec": {
      "name": "python3",
      "display_name": "Python 3"
    },
    "language_info": {
      "name": "python"
    }
  },
  "cells": [
    {
      "cell_type": "markdown",
      "metadata": {
        "id": "view-in-github",
        "colab_type": "text"
      },
      "source": [
        "<a href=\"https://colab.research.google.com/github/DaffaHamsy/UTS-SIstem-Cerdas/blob/main/soal_UTS_1.ipynb\" target=\"_parent\"><img src=\"https://colab.research.google.com/assets/colab-badge.svg\" alt=\"Open In Colab\"/></a>"
      ]
    },
    {
      "cell_type": "code",
      "execution_count": 33,
      "metadata": {
        "colab": {
          "base_uri": "https://localhost:8080/"
        },
        "id": "eUeWoXzEe8lP",
        "outputId": "18351228-ea26-4a46-b501-7f54cc16b5dc"
      },
      "outputs": [
        {
          "output_type": "stream",
          "name": "stdout",
          "text": [
            "Jalur terpendek: ['a', 'e', 'f', 'd', 'c', 'b', 'h', 'i', 'g', 'j']\n",
            "Panjang jalur: 135.36975122618156\n"
          ]
        }
      ],
      "source": [
        "import random\n",
        "import math\n",
        "\n",
        "# Definisikan koordinat titik-titik pengantaran\n",
        "customer_coordinates = {\n",
        "    'a': (15, 5),\n",
        "    'b': (10, 30),\n",
        "    'c': (5, 10),\n",
        "    'd': (15, 20),\n",
        "    'e': (25, 10),\n",
        "    'f': (30, 20),\n",
        "    'g': (45, 5),\n",
        "    'h': (35, 30),\n",
        "    'i': (45, 25),\n",
        "    'j': (40, 10)\n",
        "}\n",
        "\n",
        "# Hitung jarak antara dua titik\n",
        "def calculate_distance(coord1, coord2):\n",
        "    return math.sqrt((coord1[0] - coord2[0])**2 + (coord1[1] - coord2[1])**2)\n",
        "\n",
        "# Inisialisasi feromon pada setiap edge\n",
        "def initialize_pheromones(customers):\n",
        "    pheromones = {}\n",
        "    for i, customer1 in enumerate(customers):\n",
        "        for j, customer2 in enumerate(customers):\n",
        "            if i < j:\n",
        "                pheromones[(customer1, customer2)] = 0.1\n",
        "                pheromones[(customer2, customer1)] = 0.1  # Tambahkan ini juga untuk memastikan simetri\n",
        "    return pheromones\n",
        "\n",
        "# Inisialisasi semut pada setiap titik\n",
        "def initialize_ants(customers):\n",
        "    ants = []\n",
        "    for customer in customers:\n",
        "        ants.append(customer)\n",
        "    return ants\n",
        "\n",
        "# Update feromon pada setiap edge berdasarkan panjang jalur yang ditempuh\n",
        "def update_pheromones(pheromones, path, distance):\n",
        "    evaporation_rate = 0.5\n",
        "    for i in range(len(path) - 1):\n",
        "        pheromones[(path[i], path[i+1])] *= (1 - evaporation_rate)\n",
        "        pheromones[(path[i+1], path[i])] = pheromones[(path[i], path[i+1])]\n",
        "    for i in range(len(path) - 1):\n",
        "        pheromones[(path[i], path[i+1])] += 1 / distance\n",
        "        pheromones[(path[i+1], path[i])] = pheromones[(path[i], path[i+1])]\n",
        "\n",
        "# Memilih pelanggan berikutnya yang akan dikunjungi oleh semut\n",
        "def select_next_customer(pheromones, current_customer, unvisited_customers):\n",
        "    probabilities = []\n",
        "    total = 0\n",
        "    for customer in unvisited_customers:\n",
        "        probabilities.append((customer, pheromones[(current_customer, customer)]))\n",
        "        total += pheromones[(current_customer, customer)]\n",
        "    probabilities = [(customer, pheromone / total) for customer, pheromone in probabilities]\n",
        "    selected_customer = random.choices([customer for customer, _ in probabilities], [prob for _, prob in probabilities])[0]\n",
        "    return selected_customer\n",
        "\n",
        "# Menemukan jalur terpendek menggunakan algoritma ACO\n",
        "def find_shortest_path(customers):\n",
        "    best_path = None\n",
        "    best_distance = float('inf')\n",
        "    pheromones = initialize_pheromones(customers)\n",
        "    max_iterations = 100\n",
        "    num_ants = 10\n",
        "\n",
        "    for _ in range(max_iterations):\n",
        "        ants = [initialize_ants(customers) for _ in range(num_ants)]\n",
        "        for ant in ants:\n",
        "            current_customer = ant[0]\n",
        "            ant_path = [current_customer]\n",
        "            unvisited_customers = set(ant[1:])\n",
        "            while unvisited_customers:\n",
        "                next_customer = select_next_customer(pheromones, current_customer, unvisited_customers)\n",
        "                ant_path.append(next_customer)\n",
        "                unvisited_customers.remove(next_customer)\n",
        "                current_customer = next_customer\n",
        "            distance = sum([calculate_distance(customer_coordinates[ant_path[i]], customer_coordinates[ant_path[i+1]]) for i in range(len(ant_path) - 1)])\n",
        "            if distance < best_distance:\n",
        "                best_path = ant_path\n",
        "                best_distance = distance\n",
        "            update_pheromones(pheromones, ant_path, distance)\n",
        "    return best_path, best_distance\n",
        "\n",
        "# Main program\n",
        "customers = ['a', 'b', 'c', 'd', 'e', 'f', 'g', 'h', 'i', 'j']\n",
        "shortest_path, shortest_distance = find_shortest_path(customers)\n",
        "print(\"Jalur terpendek:\", shortest_path)\n",
        "print(\"Panjang jalur:\", shortest_distance)\n"
      ]
    },
    {
      "cell_type": "code",
      "source": [],
      "metadata": {
        "id": "3Dpi5TOdgyJL"
      },
      "execution_count": null,
      "outputs": []
    }
  ]
}