{
  "nbformat": 4,
  "nbformat_minor": 0,
  "metadata": {
    "colab": {
      "provenance": [],
      "authorship_tag": "ABX9TyMWbH1wuC9arEc0N6bfqnzu",
      "include_colab_link": true
    },
    "kernelspec": {
      "name": "python3",
      "display_name": "Python 3"
    },
    "language_info": {
      "name": "python"
    }
  },
  "cells": [
    {
      "cell_type": "markdown",
      "metadata": {
        "id": "view-in-github",
        "colab_type": "text"
      },
      "source": [
        "<a href=\"https://colab.research.google.com/github/DaffaHamsy/UTS-SIstem-Cerdas/blob/main/soal_UTS_1.ipynb\" target=\"_parent\"><img src=\"https://colab.research.google.com/assets/colab-badge.svg\" alt=\"Open In Colab\"/></a>"
      ]
    },
    {
      "cell_type": "code",
      "execution_count": 7,
      "metadata": {
        "colab": {
          "base_uri": "https://localhost:8080/"
        },
        "id": "eUeWoXzEe8lP",
        "outputId": "34c7913d-bd8a-4476-95b5-b1bb4780fc06"
      },
      "outputs": [
        {
          "output_type": "stream",
          "name": "stdout",
          "text": [
            "Rute Terbaik: [2.02002318 0.15524142 0.02075826 0.18453893 0.57575501 0.79095829\n",
            " 0.06084687 4.96187007 4.58319222 4.70308217]\n",
            "Waktu Tempuh Terkecil: 22.360679774997898 menit\n"
          ]
        }
      ],
      "source": [
        "import numpy as np\n",
        "import pygmo as pg\n",
        "\n",
        "# Koordinat pelanggan\n",
        "pelanggan = {'a': (15, 5), 'b': (10, 30), 'c': (5, 10), 'd': (15, 20), 'e': (25, 10), 'f': (30, 20), 'g': (45, 5), 'h': (35, 30), 'i': (45, 25), 'j': (40, 10)}\n",
        "\n",
        "# Mendefinisikan kelas turunan pygmo.problem\n",
        "class DeliveryProblem:\n",
        "    def __init__(self, pelanggan):\n",
        "        self.pelanggan = pelanggan\n",
        "\n",
        "    def fitness(self, x):\n",
        "        # Hitung waktu tempuh\n",
        "        waktu_tempuh = 0\n",
        "        for i in range(len(x) - 1):\n",
        "            kunci_pelanggan_saat_ini = list(self.pelanggan.keys())[int(x[i])]\n",
        "            kunci_pelanggan_berikutnya = list(self.pelanggan.keys())[int(x[i+1])]\n",
        "            waktu_tempuh += np.sqrt((self.pelanggan[kunci_pelanggan_saat_ini][0] - self.pelanggan[kunci_pelanggan_berikutnya][0])**2 + (self.pelanggan[kunci_pelanggan_saat_ini][1] - self.pelanggan[kunci_pelanggan_berikutnya][1])**2)\n",
        "        return waktu_tempuh,  # Nilai harus dikembalikan sebagai tuple\n",
        "\n",
        "    def get_bounds(self):\n",
        "        return (0,) * len(self.pelanggan), (len(self.pelanggan)-1,) * len(self.pelanggan)\n",
        "\n",
        "    def get_name(self):\n",
        "        return \"DeliveryProblem\"\n",
        "\n",
        "# Inisialisasi masalah\n",
        "delivery_prob = DeliveryProblem(pelanggan)\n",
        "\n",
        "# Inisialisasi algoritma PSO\n",
        "algoritma = pg.algorithm(pg.pso(gen=100))\n",
        "\n",
        "# Buat populasi\n",
        "pop_size = 50\n",
        "populasi = pg.population(delivery_prob, pop_size)\n",
        "\n",
        "# Jalankan algoritma\n",
        "populasi = algoritma.evolve(populasi)\n",
        "\n",
        "# Ambil solusi terbaik\n",
        "best_solusi = populasi.get_x()[populasi.best_idx()]\n",
        "\n",
        "# Hitung waktu tempuh terkecil\n",
        "waktu_tempuh_terkecil = delivery_prob.fitness(best_solusi)[0]\n",
        "\n",
        "print(\"Rute Terbaik:\", best_solusi)\n",
        "print(\"Waktu Tempuh Terkecil:\", waktu_tempuh_terkecil, \"menit\")\n"
      ]
    },
    {
      "cell_type": "code",
      "source": [
        "!pip install pygmo"
      ],
      "metadata": {
        "colab": {
          "base_uri": "https://localhost:8080/"
        },
        "id": "v8hEKH0Ye-Ua",
        "outputId": "355631d2-a970-46d1-d820-57592f8d8ae4"
      },
      "execution_count": 2,
      "outputs": [
        {
          "output_type": "stream",
          "name": "stdout",
          "text": [
            "Collecting pygmo\n",
            "  Downloading pygmo-2.19.5-cp310-cp310-manylinux_2_28_x86_64.whl (14.7 MB)\n",
            "\u001b[2K     \u001b[90m━━━━━━━━━━━━━━━━━━━━━━━━━━━━━━━━━━━━━━━━\u001b[0m \u001b[32m14.7/14.7 MB\u001b[0m \u001b[31m31.9 MB/s\u001b[0m eta \u001b[36m0:00:00\u001b[0m\n",
            "\u001b[?25hRequirement already satisfied: numpy in /usr/local/lib/python3.10/dist-packages (from pygmo) (1.25.2)\n",
            "Requirement already satisfied: cloudpickle in /usr/local/lib/python3.10/dist-packages (from pygmo) (2.2.1)\n",
            "Requirement already satisfied: scipy in /usr/local/lib/python3.10/dist-packages (from pygmo) (1.11.4)\n",
            "Installing collected packages: pygmo\n",
            "Successfully installed pygmo-2.19.5\n"
          ]
        }
      ]
    },
    {
      "cell_type": "code",
      "source": [
        "import numpy as np\n",
        "from deap import base, creator, tools, algorithms\n",
        "\n",
        "# Delete previous creation of classes if they exist\n",
        "if \"FitnessMax\" in dir(creator):\n",
        "    del creator.FitnessMax\n",
        "if \"Individual\" in dir(creator):\n",
        "    del creator.Individual\n",
        "\n",
        "# Koordinat pelanggan\n",
        "pelanggan = {'a': (15, 5), 'b': (10, 30), 'c': (5, 10), 'd': (15, 20), 'e': (25, 10), 'f': (30, 20), 'g': (45, 5), 'h': (35, 30), 'i': (45, 25), 'j': (40, 10)}\n",
        "\n",
        "# Fungsi objektif untuk algoritma genetik\n",
        "def obj_func(individual):\n",
        "    # Hitung waktu tempuh dan pendapatan\n",
        "    waktu_tempuh = 0\n",
        "    pendapatan_total = 0\n",
        "    for i in range(len(individual) - 1):\n",
        "        kunci_pelanggan_saat_ini = list(pelanggan.keys())[individual[i]]\n",
        "        kunci_pelanggan_berikutnya = list(pelanggan.keys())[individual[i+1]]\n",
        "        waktu_tempuh += np.sqrt((pelanggan[kunci_pelanggan_saat_ini][0] - pelanggan[kunci_pelanggan_berikutnya][0])**2 + (pelanggan[kunci_pelanggan_saat_ini][1] - pelanggan[kunci_pelanggan_berikutnya][1])**2)\n",
        "        # Hitung pendapatan dari setiap pengantaran\n",
        "        pendapatan_total += 15000  # Bonus pengantaran\n",
        "    return pendapatan_total,\n",
        "\n",
        "# Inisialisasi algoritma genetik\n",
        "creator.create(\"FitnessMax\", base.Fitness, weights=(1.0,))\n",
        "creator.create(\"Individual\", list, fitness=creator.FitnessMax)\n",
        "\n",
        "toolbox = base.Toolbox()\n",
        "toolbox.register(\"attr_permutation\", np.random.permutation, len(pelanggan))\n",
        "toolbox.register(\"individual\", tools.initIterate, creator.Individual, toolbox.attr_permutation)\n",
        "toolbox.register(\"population\", tools.initRepeat, list, toolbox.individual)\n",
        "toolbox.register(\"mate\", tools.cxOrdered)\n",
        "toolbox.register(\"mutate\", tools.mutShuffleIndexes, indpb=0.05)\n",
        "toolbox.register(\"select\", tools.selTournament, tournsize=3)\n",
        "toolbox.register(\"evaluate\", obj_func)\n",
        "\n",
        "# Algoritma genetik\n",
        "def main():\n",
        "    pop = toolbox.population(n=50)\n",
        "    hof = tools.HallOfFame(1)\n",
        "    stats = tools.Statistics(lambda ind: ind.fitness.values)\n",
        "    stats.register(\"avg\", np.mean)\n",
        "    stats.register(\"min\", np.min)\n",
        "\n",
        "    algorithms.eaSimple(pop, toolbox, cxpb=0.5, mutpb=0.2, ngen=100, stats=stats, halloffame=hof)\n",
        "\n",
        "    return pop, stats, hof\n",
        "\n",
        "if __name__ == \"__main__\":\n",
        "    pop, stats, hof = main()\n",
        "\n",
        "best_individual = hof[0]\n",
        "total_pendapatan = obj_func(best_individual)[0]\n",
        "print(\"Rute Terbaik:\", best_individual)\n",
        "print(\"Total Pendapatan:\", total_pendapatan)\n"
      ],
      "metadata": {
        "colab": {
          "base_uri": "https://localhost:8080/"
        },
        "id": "2SNCclDlfdkC",
        "outputId": "e03196b8-c641-40dd-cc26-9021f5b07d53"
      },
      "execution_count": 13,
      "outputs": [
        {
          "output_type": "stream",
          "name": "stdout",
          "text": [
            "gen\tnevals\tavg   \tmin   \n",
            "0  \t50    \t135000\t135000\n",
            "1  \t24    \t135000\t135000\n",
            "2  \t24    \t135000\t135000\n",
            "3  \t26    \t135000\t135000\n",
            "4  \t26    \t135000\t135000\n",
            "5  \t35    \t135000\t135000\n",
            "6  \t32    \t135000\t135000\n",
            "7  \t29    \t135000\t135000\n",
            "8  \t32    \t135000\t135000\n",
            "9  \t26    \t135000\t135000\n",
            "10 \t30    \t135000\t135000\n",
            "11 \t26    \t135000\t135000\n",
            "12 \t30    \t135000\t135000\n",
            "13 \t35    \t135000\t135000\n",
            "14 \t32    \t135000\t135000\n",
            "15 \t24    \t135000\t135000\n",
            "16 \t22    \t135000\t135000\n",
            "17 \t30    \t135000\t135000\n",
            "18 \t31    \t135000\t135000\n",
            "19 \t34    \t135000\t135000\n",
            "20 \t33    \t135000\t135000\n",
            "21 \t36    \t135000\t135000\n",
            "22 \t31    \t135000\t135000\n",
            "23 \t23    \t135000\t135000\n",
            "24 \t35    \t135000\t135000\n",
            "25 \t29    \t135000\t135000\n",
            "26 \t30    \t135000\t135000\n",
            "27 \t24    \t135000\t135000\n",
            "28 \t31    \t135000\t135000\n",
            "29 \t32    \t135000\t135000\n",
            "30 \t38    \t135000\t135000\n",
            "31 \t26    \t135000\t135000\n",
            "32 \t24    \t135000\t135000\n",
            "33 \t20    \t135000\t135000\n",
            "34 \t30    \t135000\t135000\n",
            "35 \t22    \t135000\t135000\n",
            "36 \t25    \t135000\t135000\n",
            "37 \t31    \t135000\t135000\n",
            "38 \t32    \t135000\t135000\n",
            "39 \t31    \t135000\t135000\n",
            "40 \t33    \t135000\t135000\n",
            "41 \t26    \t135000\t135000\n",
            "42 \t26    \t135000\t135000\n",
            "43 \t35    \t135000\t135000\n",
            "44 \t25    \t135000\t135000\n",
            "45 \t29    \t135000\t135000\n",
            "46 \t32    \t135000\t135000\n",
            "47 \t19    \t135000\t135000\n",
            "48 \t34    \t135000\t135000\n",
            "49 \t28    \t135000\t135000\n",
            "50 \t22    \t135000\t135000\n",
            "51 \t26    \t135000\t135000\n",
            "52 \t30    \t135000\t135000\n",
            "53 \t28    \t135000\t135000\n",
            "54 \t37    \t135000\t135000\n",
            "55 \t29    \t135000\t135000\n",
            "56 \t21    \t135000\t135000\n",
            "57 \t23    \t135000\t135000\n",
            "58 \t31    \t135000\t135000\n",
            "59 \t39    \t135000\t135000\n",
            "60 \t38    \t135000\t135000\n",
            "61 \t33    \t135000\t135000\n",
            "62 \t23    \t135000\t135000\n",
            "63 \t33    \t135000\t135000\n",
            "64 \t35    \t135000\t135000\n",
            "65 \t32    \t135000\t135000\n",
            "66 \t29    \t135000\t135000\n",
            "67 \t33    \t135000\t135000\n",
            "68 \t35    \t135000\t135000\n",
            "69 \t18    \t135000\t135000\n",
            "70 \t28    \t135000\t135000\n",
            "71 \t38    \t135000\t135000\n",
            "72 \t37    \t135000\t135000\n",
            "73 \t33    \t135000\t135000\n",
            "74 \t31    \t135000\t135000\n",
            "75 \t37    \t135000\t135000\n",
            "76 \t34    \t135000\t135000\n",
            "77 \t28    \t135000\t135000\n",
            "78 \t33    \t135000\t135000\n",
            "79 \t23    \t135000\t135000\n",
            "80 \t35    \t135000\t135000\n",
            "81 \t38    \t135000\t135000\n",
            "82 \t34    \t135000\t135000\n",
            "83 \t40    \t135000\t135000\n",
            "84 \t35    \t135000\t135000\n",
            "85 \t30    \t135000\t135000\n",
            "86 \t32    \t135000\t135000\n",
            "87 \t36    \t135000\t135000\n",
            "88 \t33    \t135000\t135000\n",
            "89 \t37    \t135000\t135000\n",
            "90 \t25    \t135000\t135000\n",
            "91 \t32    \t135000\t135000\n",
            "92 \t31    \t135000\t135000\n",
            "93 \t39    \t135000\t135000\n",
            "94 \t25    \t135000\t135000\n",
            "95 \t27    \t135000\t135000\n",
            "96 \t32    \t135000\t135000\n",
            "97 \t34    \t135000\t135000\n",
            "98 \t20    \t135000\t135000\n",
            "99 \t28    \t135000\t135000\n",
            "100\t29    \t135000\t135000\n",
            "Rute Terbaik: [0, 7, 3, 4, 5, 6, 8, 1, 9, 2]\n",
            "Total Pendapatan: 135000\n"
          ]
        }
      ]
    },
    {
      "cell_type": "code",
      "source": [
        "!pip install deap"
      ],
      "metadata": {
        "colab": {
          "base_uri": "https://localhost:8080/"
        },
        "id": "el32QTcagip5",
        "outputId": "3c80440c-a046-45d4-e906-f5845d600319"
      },
      "execution_count": 10,
      "outputs": [
        {
          "output_type": "stream",
          "name": "stdout",
          "text": [
            "Collecting deap\n",
            "  Downloading deap-1.4.1-cp310-cp310-manylinux_2_5_x86_64.manylinux1_x86_64.manylinux_2_17_x86_64.manylinux2014_x86_64.whl (135 kB)\n",
            "\u001b[?25l     \u001b[90m━━━━━━━━━━━━━━━━━━━━━━━━━━━━━━━━━━━━━━━━\u001b[0m \u001b[32m0.0/135.4 kB\u001b[0m \u001b[31m?\u001b[0m eta \u001b[36m-:--:--\u001b[0m\r\u001b[2K     \u001b[91m━━━━━━━━━━━━━━━━━━━━━━━━━━━━━━━━━━━━━━━\u001b[0m\u001b[90m╺\u001b[0m \u001b[32m133.1/135.4 kB\u001b[0m \u001b[31m4.6 MB/s\u001b[0m eta \u001b[36m0:00:01\u001b[0m\r\u001b[2K     \u001b[90m━━━━━━━━━━━━━━━━━━━━━━━━━━━━━━━━━━━━━━━━\u001b[0m \u001b[32m135.4/135.4 kB\u001b[0m \u001b[31m3.5 MB/s\u001b[0m eta \u001b[36m0:00:00\u001b[0m\n",
            "\u001b[?25hRequirement already satisfied: numpy in /usr/local/lib/python3.10/dist-packages (from deap) (1.25.2)\n",
            "Installing collected packages: deap\n",
            "Successfully installed deap-1.4.1\n"
          ]
        }
      ]
    },
    {
      "cell_type": "code",
      "source": [],
      "metadata": {
        "id": "3Dpi5TOdgyJL"
      },
      "execution_count": null,
      "outputs": []
    }
  ]
}